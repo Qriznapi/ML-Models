{
 "cells": [
  {
   "cell_type": "code",
   "execution_count": 11,
   "id": "40e44d00-8c79-4da9-8e34-870e38baade8",
   "metadata": {},
   "outputs": [
    {
     "name": "stdout",
     "output_type": "stream",
     "text": [
      "$ 3036.7088607594937\n",
      "0.8598109320743934\n",
      "$ 2664.556962025316\n"
     ]
    }
   ],
   "source": [
    "# Install libraries not already in the environment using pip\n",
    "#!pip install pandas==1.3.4\n",
    "#!pip install sklearn==0.20.1\n",
    "\n",
    "# Pandas will allow us to create a dataframe of the data so it can be used and manipulated\n",
    "import pandas as pd\n",
    "# Regression Tree Algorithm\n",
    "from sklearn.tree import DecisionTreeRegressor\n",
    "# Split our data into a training and testing data\n",
    "from sklearn.model_selection import train_test_split\n",
    "\n",
    "data = pd.read_csv(\"https://cf-courses-data.s3.us.cloud-object-storage.appdomain.cloud/IBMDeveloperSkillsNetwork-ML0101EN-SkillsNetwork/labs/Module%203/data/real_estate_data.csv\")\n",
    "data.head()\n",
    "data.shape\n",
    "data.isna().sum()\n",
    "\n",
    "data.dropna(inplace=True)\n",
    "data.isna().sum()\n",
    "X = data.drop(columns=[\"MEDV\"])\n",
    "Y = data[\"MEDV\"]\n",
    "X.head()\n",
    "Y.head()\n",
    "X_train, X_test, Y_train, Y_test = train_test_split(X, Y, test_size=.2, random_state=1)\n",
    "\n",
    "regression_tree = DecisionTreeRegressor(criterion = 'squared_error')\n",
    "regression_tree.fit(X_train, Y_train)\n",
    "regression_tree.score(X_test, Y_test)\n",
    "prediction = regression_tree.predict(X_test)\n",
    "\n",
    "print(\"$\",(prediction - Y_test).abs().mean()*1000)\n",
    "regression_tree = DecisionTreeRegressor(criterion = \"absolute_error\")\n",
    "\n",
    "regression_tree.fit(X_train, Y_train)\n",
    "\n",
    "print(regression_tree.score(X_test, Y_test))\n",
    "\n",
    "prediction = regression_tree.predict(X_test)\n",
    "\n",
    "print(\"$\",(prediction - Y_test).abs().mean()*1000)"
   ]
  },
  {
   "cell_type": "code",
   "execution_count": null,
   "id": "0f612e16-7fec-4ab1-9956-11035f6f7d30",
   "metadata": {},
   "outputs": [],
   "source": []
  }
 ],
 "metadata": {
  "kernelspec": {
   "display_name": "Python 3 (ipykernel)",
   "language": "python",
   "name": "python3"
  },
  "language_info": {
   "codemirror_mode": {
    "name": "ipython",
    "version": 3
   },
   "file_extension": ".py",
   "mimetype": "text/x-python",
   "name": "python",
   "nbconvert_exporter": "python",
   "pygments_lexer": "ipython3",
   "version": "3.12.4"
  }
 },
 "nbformat": 4,
 "nbformat_minor": 5
}
