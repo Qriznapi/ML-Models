{
  "nbformat": 4,
  "nbformat_minor": 0,
  "metadata": {
    "colab": {
      "provenance": []
    },
    "kernelspec": {
      "name": "python3",
      "display_name": "Python 3"
    },
    "language_info": {
      "name": "python"
    }
  },
  "cells": [
    {
      "cell_type": "markdown",
      "source": [
        "# **Подготовка**"
      ],
      "metadata": {
        "id": "rOEtxpoOJWBX"
      }
    },
    {
      "cell_type": "code",
      "execution_count": null,
      "metadata": {
        "id": "DoWbwb5zk493"
      },
      "outputs": [],
      "source": [
        "import tensorflow as tf\n",
        "from scipy.io import loadmat\n",
        "import matplotlib.pyplot as plt\n",
        "import numpy as np\n",
        "from tensorflow.keras.preprocessing.image import load_img, img_to_array\n",
        "from tensorflow.keras.models import Sequential, load_model\n",
        "from tensorflow.keras.layers import Dense, Flatten, Conv1D, MaxPooling1D, Dropout, BatchNormalization, LSTM, Reshape\n",
        "from tensorflow.keras.callbacks import ModelCheckpoint, EarlyStopping\n",
        "import os\n",
        "import pandas as pd\n",
        "from tensorflow.keras.optimizers import Adam\n",
        "from tensorflow.keras import regularizers\n",
        "from sklearn.preprocessing import MinMaxScaler\n",
        "from sklearn.metrics import mean_squared_error\n",
        "from tensorflow.keras.losses import Huber\n",
        "from tensorflow.keras.regularizers import l2\n",
        "from tensorflow.keras.initializers import HeNormal\n",
        "import time\n",
        "import datetime\n",
        "from pandas.tseries.offsets import DateOffset\n",
        "#from sktime.utils.plotting import plot_series"
      ]
    },
    {
      "cell_type": "code",
      "source": [
        "# Run this cell to connect to your Drive folder\n",
        "\n",
        "from google.colab import drive\n",
        "drive.mount('/content/gdrive')"
      ],
      "metadata": {
        "colab": {
          "base_uri": "https://localhost:8080/"
        },
        "id": "Sc_ln1KglmxJ",
        "outputId": "ff4abbe6-2648-4d15-9d80-d6034b1efecd"
      },
      "execution_count": null,
      "outputs": [
        {
          "output_type": "stream",
          "name": "stdout",
          "text": [
            "Mounted at /content/gdrive\n"
          ]
        }
      ]
    },
    {
      "cell_type": "code",
      "source": [
        "#from google.colab import files\n",
        "#uploaded = files.upload()"
      ],
      "metadata": {
        "id": "CkDmcNvAF_Mn"
      },
      "execution_count": null,
      "outputs": []
    },
    {
      "cell_type": "code",
      "source": [
        "df_forFCST = pd.read_csv(  r'/content/gdrive/MyDrive/DataStore/salesD_smoothed.csv' )\n",
        "#df_forFCST = pd.read_csv(  r'/content/gdrive/MyDrive/DataStore/Копия salesD_smoothed (1) - salesD_smoothed (1).csv (1).csv')\n",
        "# Create a BytesIO object from the uploaded file\n",
        "#file_content = io.BytesIO(uploaded['salesD_smoothed (1).csv'])\n",
        "\n",
        "\n",
        "df_forFCST.set_index( 'ds', inplace = True )\n",
        "df_forFCST.index = pd.to_datetime( df_forFCST.index )\n",
        "df_forFCST.index\n",
        "print(df_forFCST['y_mix'])\n"
      ],
      "metadata": {
        "id": "g6fIp4P7lnn5",
        "colab": {
          "base_uri": "https://localhost:8080/"
        },
        "outputId": "e1aa5830-56a9-4b9b-a9ac-88e0b0ca14aa"
      },
      "execution_count": null,
      "outputs": [
        {
          "output_type": "stream",
          "name": "stdout",
          "text": [
            "ds\n",
            "2019-01-01    135.893037\n",
            "2019-01-02     45.361847\n",
            "2019-01-03     74.523035\n",
            "2019-01-04    108.004398\n",
            "2019-01-05     71.282903\n",
            "                 ...    \n",
            "2024-07-27    100.898801\n",
            "2024-07-28     83.893385\n",
            "2024-07-29    362.231558\n",
            "2024-07-30    411.531065\n",
            "2024-07-31    409.263676\n",
            "Name: y_mix, Length: 2039, dtype: float64\n"
          ]
        }
      ]
    },
    {
      "cell_type": "code",
      "source": [
        "def windowed_dataset( series, window_size, batch_size ):\n",
        "    \"\"\"Generates dataset windows\n",
        "\n",
        "    Args:\n",
        "      series (array of float) - contains the values of the time series\n",
        "      window_size (int) - the number of time steps to include in the feature\n",
        "      batch_size (int) - the batch size\n",
        "      shuffle_buffer(int) - buffer size to use for the shuffle method\n",
        "\n",
        "    Returns:\n",
        "      dataset (TF Dataset) - TF Dataset containing time windows\n",
        "    \"\"\"\n",
        "\n",
        "    # Generate a TF Dataset from the series values\n",
        "    dataset = tf.data.Dataset.from_tensor_slices(series)\n",
        "\n",
        "    # Window the data but only take those with the specified size\n",
        "    dataset = dataset.window(window_size + 1, shift=1, drop_remainder=True)\n",
        "\n",
        "    # Flatten the windows by putting its elements in a single batch\n",
        "    dataset = dataset.flat_map(lambda window: window.batch(window_size + 1))\n",
        "\n",
        "    # Create tuples with features and labels\n",
        "    dataset = dataset.map(lambda window: (window[:-1], window[-1, 0])) # Extract 'y_mix' as the label\n",
        "\n",
        "    # Create batches of windows\n",
        "    # dataset = dataset.batch( batch_size ).prefetch(1)\n",
        "    dataset = dataset.batch(batch_size, drop_remainder=True).prefetch(1)\n",
        "\n",
        "    return dataset\n",
        "\n",
        "# Visualizes time series data\n",
        "def plot_series(x, y, format=\"-\", start=0, end=None,\n",
        "                title=None, xlabel=None, ylabel=None, legend=None ):\n",
        "    \"\"\"\n",
        "    Visualizes time series data\n",
        "\n",
        "    Args:\n",
        "      x (array of int) - contains values for the x-axis\n",
        "      y (array of int or tuple of arrays) - contains the values for the y-axis\n",
        "      format (string) - line style when plotting the graph\n",
        "      label (string) - tag for the line\n",
        "      start (int) - first time step to plot\n",
        "      end (int) - last time step to plot\n",
        "      title (string) - title of the plot\n",
        "      xlabel (string) - label for the x-axis\n",
        "      ylabel (string) - label for the y-axis\n",
        "      legend (list of strings) - legend for the plot\n",
        "    \"\"\"\n",
        "\n",
        "    # Setup dimensions of the graph figure\n",
        "    plt.figure(figsize=(8, 4))\n",
        "\n",
        "    # Check if there are more than two series to plot\n",
        "    if type(y) is tuple:\n",
        "\n",
        "      # Loop over the y elements\n",
        "      for y_curr in y:\n",
        "\n",
        "        # Plot the x and current y values\n",
        "        plt.plot(x[start:end], y_curr[start:end], format)\n",
        "\n",
        "    else:\n",
        "      # Plot the x and y values\n",
        "      plt.plot(x[start:end], y[start:end], format)\n",
        "\n",
        "    # Label the x-axis\n",
        "    plt.xlabel(xlabel)\n",
        "\n",
        "    # Label the y-axis\n",
        "    plt.ylabel(ylabel)\n",
        "\n",
        "    # Set the legend\n",
        "    if legend:\n",
        "      plt.legend(legend)\n",
        "\n",
        "    # Set the title\n",
        "    plt.title(title)\n",
        "\n",
        "    # Overlay a grid on the graph\n",
        "    plt.grid(True)\n",
        "\n",
        "    # Draw the graph on screen\n",
        "    plt.show()\n",
        "\n",
        "# Feature engineering after split\n",
        "def add_time_features( df, max_mix ):\n",
        "  df = df.copy()\n",
        "  # max_mix = df.y_mix.max()\n",
        "  df['y_mix'] = df.y_mix / max_mix\n",
        "  df['month_number'] = df.index.month / df.index.month.max()\n",
        "  df['day_of_week'] = df.index.dayofweek / df.index.dayofweek.max()\n",
        "  df['day_of_month'] = df.index.day / df.index.day.max()\n",
        "  return df"
      ],
      "metadata": {
        "id": "_ur_ObLBlnwK"
      },
      "execution_count": null,
      "outputs": []
    },
    {
      "cell_type": "code",
      "source": [
        "def get_model(input_shape, wd = 5e-3, dp = 0.5):\n",
        "    model = Sequential([\n",
        "        tf.keras.layers.Conv1D(filters=64, kernel_size=3,\n",
        "                      activation=\"relu\",\n",
        "                      input_shape=input_shape, kernel_initializer=HeNormal()),\n",
        "  tf.keras.layers.LSTM(64, return_sequences=True, kernel_regularizer=l2(wd)),\n",
        "        Dropout(dp),\n",
        "  tf.keras.layers.LSTM(64, return_sequences=True, kernel_regularizer=l2(wd)),\n",
        "        Dropout(dp),\n",
        "  tf.keras.layers.LSTM(64, return_sequences=True, kernel_regularizer=l2(wd)),\n",
        "  tf.keras.layers.LSTM(64, kernel_regularizer=l2(wd)),\n",
        "  tf.keras.layers.Dense(1)\n",
        "    ])\n",
        "    return model"
      ],
      "metadata": {
        "id": "iM1Q_RUXlnth"
      },
      "execution_count": null,
      "outputs": []
    },
    {
      "cell_type": "code",
      "source": [
        "def get_compile(model, lrate = 3e-4):\n",
        "    optimizer = tf.keras.optimizers.SGD(momentum=0.9, learning_rate=lrate)\n",
        "\n",
        "    model.compile(optimizer=optimizer,\n",
        "              #loss='huber',\n",
        "                loss = 'mae',\n",
        "                  metrics = ['mae', 'mse'])\n",
        "\n",
        "def get_checkpoint_every_epoch():\n",
        "    return ModelCheckpoint(\n",
        "        filepath='/content/gdrive/MyDrive/var/FTryModel/checkpoints_every_epoch/checkpoint_{epoch:03d}.weights.h5',\n",
        "        save_weights_only=True,\n",
        "        save_freq='epoch',\n",
        "    )\n",
        "\n",
        "def get_checkpoint_best_only():\n",
        "    return ModelCheckpoint(\n",
        "        filepath='/content/gdrive/MyDrive/var/FTryModel/checkpoints_best_only/checkpoint.weights.h5',\n",
        "        save_weights_only=True,\n",
        "        monitor='loss',\n",
        "        save_best_only=True,\n",
        "        mode='min',\n",
        "    )\n",
        "\n",
        "def get_early_stopping():\n",
        "    return EarlyStopping(monitor='loss', patience=5, mode='min', min_delta=0.005)\n",
        "\n",
        "def get_lr_schedule():\n",
        "    lr_schedule = tf.keras.callbacks.LearningRateScheduler(\n",
        "    lambda epoch: 1e-9 * 10**(epoch / 15))\n",
        "    return lr_schedule\n",
        "\n"
      ],
      "metadata": {
        "id": "rlD6DjVgyKCy"
      },
      "execution_count": null,
      "outputs": []
    },
    {
      "cell_type": "code",
      "source": [
        "# Split data first\n",
        "split_dateSm = pd.to_datetime( '2024-04-30' )\n",
        "train_dfSm = df_forFCST[ df_forFCST.index <= split_dateSm ]\n",
        "# valid_dfSm = df_forFCST[ df_forFCST.index > split_dateSm ]\n",
        "\n",
        "\n",
        "max_mix = df_forFCST[ df_forFCST.index <= split_dateSm ]['y_mix'].max()\n",
        "train_dfSm = add_time_features( train_dfSm, max_mix )\n",
        "# valid_dfSm = add_time_features( valid_dfSm, max_mix )\n",
        "\n",
        "# Form numpy arrays\n",
        "time_trainSm = np.array( train_dfSm.reset_index()['ds'] )\n",
        "x_trainSm = np.array( train_dfSm[['y_mix', 'month_number', 'day_of_week', 'day_of_month']] )\n",
        "\n",
        "# time_validSm = np.array( valid_dfSm.reset_index()['ds'])\n",
        "# x_validSm = np.array( valid_dfSm[['y_mix', 'month_number', 'day_of_week', 'day_of_month']] )\n",
        "print(len(x_trainSm))"
      ],
      "metadata": {
        "id": "sQgp7kw-6Kn8",
        "colab": {
          "base_uri": "https://localhost:8080/"
        },
        "outputId": "ca66589a-ff02-44a3-a728-9c2b5d1a8ac5"
      },
      "execution_count": null,
      "outputs": [
        {
          "output_type": "stream",
          "name": "stdout",
          "text": [
            "1947\n"
          ]
        }
      ]
    },
    {
      "cell_type": "markdown",
      "source": [],
      "metadata": {
        "id": "BoYe-2hJVtUN"
      }
    },
    {
      "cell_type": "code",
      "source": [
        "checkpoint_every_epoch = get_checkpoint_every_epoch()\n",
        "checkpoint_best_only = get_checkpoint_best_only()\n",
        "early_stopping = get_early_stopping()\n",
        "lr_shed = get_lr_schedule()\n",
        "callbacks = [checkpoint_every_epoch, checkpoint_best_only, early_stopping]\n",
        "callbacks = [lr_shed]"
      ],
      "metadata": {
        "id": "wxconHGylnAg"
      },
      "execution_count": null,
      "outputs": []
    },
    {
      "cell_type": "code",
      "source": [
        "batchs = 64\n",
        "window_size = 360\n",
        "input_shape = (window_size, x_trainSm.shape[1])\n",
        "tf.keras.backend.clear_session()\n",
        "\n",
        "model = get_model(input_shape)\n",
        "get_compile(model)\n",
        "#model.summary()\n",
        "\n",
        "#validation_data = (X_val, y_val)\n",
        "\n",
        "dataset = windowed_dataset(x_trainSm, window_size, batchs)"
      ],
      "metadata": {
        "colab": {
          "base_uri": "https://localhost:8080/",
          "height": 429
        },
        "id": "aXsM7U-Hetbp",
        "outputId": "e61f7a57-3051-449e-fdeb-ae28bd7b098d"
      },
      "execution_count": null,
      "outputs": [
        {
          "output_type": "stream",
          "name": "stderr",
          "text": [
            "/usr/local/lib/python3.10/dist-packages/keras/src/layers/convolutional/base_conv.py:107: UserWarning: Do not pass an `input_shape`/`input_dim` argument to a layer. When using Sequential models, prefer using an `Input(shape)` object as the first layer in the model instead.\n",
            "  super().__init__(activity_regularizer=activity_regularizer, **kwargs)\n"
          ]
        },
        {
          "output_type": "display_data",
          "data": {
            "text/plain": [
              "\u001b[1mModel: \"sequential\"\u001b[0m\n"
            ],
            "text/html": [
              "<pre style=\"white-space:pre;overflow-x:auto;line-height:normal;font-family:Menlo,'DejaVu Sans Mono',consolas,'Courier New',monospace\"><span style=\"font-weight: bold\">Model: \"sequential\"</span>\n",
              "</pre>\n"
            ]
          },
          "metadata": {}
        },
        {
          "output_type": "display_data",
          "data": {
            "text/plain": [
              "┏━━━━━━━━━━━━━━━━━━━━━━━━━━━━━━━━━━━━━━┳━━━━━━━━━━━━━━━━━━━━━━━━━━━━━┳━━━━━━━━━━━━━━━━━┓\n",
              "┃\u001b[1m \u001b[0m\u001b[1mLayer (type)                        \u001b[0m\u001b[1m \u001b[0m┃\u001b[1m \u001b[0m\u001b[1mOutput Shape               \u001b[0m\u001b[1m \u001b[0m┃\u001b[1m \u001b[0m\u001b[1m        Param #\u001b[0m\u001b[1m \u001b[0m┃\n",
              "┡━━━━━━━━━━━━━━━━━━━━━━━━━━━━━━━━━━━━━━╇━━━━━━━━━━━━━━━━━━━━━━━━━━━━━╇━━━━━━━━━━━━━━━━━┩\n",
              "│ conv1d (\u001b[38;5;33mConv1D\u001b[0m)                      │ (\u001b[38;5;45mNone\u001b[0m, \u001b[38;5;34m358\u001b[0m, \u001b[38;5;34m64\u001b[0m)             │             \u001b[38;5;34m832\u001b[0m │\n",
              "├──────────────────────────────────────┼─────────────────────────────┼─────────────────┤\n",
              "│ lstm (\u001b[38;5;33mLSTM\u001b[0m)                          │ (\u001b[38;5;45mNone\u001b[0m, \u001b[38;5;34m358\u001b[0m, \u001b[38;5;34m64\u001b[0m)             │          \u001b[38;5;34m33,024\u001b[0m │\n",
              "├──────────────────────────────────────┼─────────────────────────────┼─────────────────┤\n",
              "│ lstm_1 (\u001b[38;5;33mLSTM\u001b[0m)                        │ (\u001b[38;5;45mNone\u001b[0m, \u001b[38;5;34m358\u001b[0m, \u001b[38;5;34m64\u001b[0m)             │          \u001b[38;5;34m33,024\u001b[0m │\n",
              "├──────────────────────────────────────┼─────────────────────────────┼─────────────────┤\n",
              "│ lstm_2 (\u001b[38;5;33mLSTM\u001b[0m)                        │ (\u001b[38;5;45mNone\u001b[0m, \u001b[38;5;34m358\u001b[0m, \u001b[38;5;34m64\u001b[0m)             │          \u001b[38;5;34m33,024\u001b[0m │\n",
              "├──────────────────────────────────────┼─────────────────────────────┼─────────────────┤\n",
              "│ lstm_3 (\u001b[38;5;33mLSTM\u001b[0m)                        │ (\u001b[38;5;45mNone\u001b[0m, \u001b[38;5;34m64\u001b[0m)                  │          \u001b[38;5;34m33,024\u001b[0m │\n",
              "├──────────────────────────────────────┼─────────────────────────────┼─────────────────┤\n",
              "│ dropout (\u001b[38;5;33mDropout\u001b[0m)                    │ (\u001b[38;5;45mNone\u001b[0m, \u001b[38;5;34m64\u001b[0m)                  │               \u001b[38;5;34m0\u001b[0m │\n",
              "├──────────────────────────────────────┼─────────────────────────────┼─────────────────┤\n",
              "│ dense (\u001b[38;5;33mDense\u001b[0m)                        │ (\u001b[38;5;45mNone\u001b[0m, \u001b[38;5;34m1\u001b[0m)                   │              \u001b[38;5;34m65\u001b[0m │\n",
              "└──────────────────────────────────────┴─────────────────────────────┴─────────────────┘\n"
            ],
            "text/html": [
              "<pre style=\"white-space:pre;overflow-x:auto;line-height:normal;font-family:Menlo,'DejaVu Sans Mono',consolas,'Courier New',monospace\">┏━━━━━━━━━━━━━━━━━━━━━━━━━━━━━━━━━━━━━━┳━━━━━━━━━━━━━━━━━━━━━━━━━━━━━┳━━━━━━━━━━━━━━━━━┓\n",
              "┃<span style=\"font-weight: bold\"> Layer (type)                         </span>┃<span style=\"font-weight: bold\"> Output Shape                </span>┃<span style=\"font-weight: bold\">         Param # </span>┃\n",
              "┡━━━━━━━━━━━━━━━━━━━━━━━━━━━━━━━━━━━━━━╇━━━━━━━━━━━━━━━━━━━━━━━━━━━━━╇━━━━━━━━━━━━━━━━━┩\n",
              "│ conv1d (<span style=\"color: #0087ff; text-decoration-color: #0087ff\">Conv1D</span>)                      │ (<span style=\"color: #00d7ff; text-decoration-color: #00d7ff\">None</span>, <span style=\"color: #00af00; text-decoration-color: #00af00\">358</span>, <span style=\"color: #00af00; text-decoration-color: #00af00\">64</span>)             │             <span style=\"color: #00af00; text-decoration-color: #00af00\">832</span> │\n",
              "├──────────────────────────────────────┼─────────────────────────────┼─────────────────┤\n",
              "│ lstm (<span style=\"color: #0087ff; text-decoration-color: #0087ff\">LSTM</span>)                          │ (<span style=\"color: #00d7ff; text-decoration-color: #00d7ff\">None</span>, <span style=\"color: #00af00; text-decoration-color: #00af00\">358</span>, <span style=\"color: #00af00; text-decoration-color: #00af00\">64</span>)             │          <span style=\"color: #00af00; text-decoration-color: #00af00\">33,024</span> │\n",
              "├──────────────────────────────────────┼─────────────────────────────┼─────────────────┤\n",
              "│ lstm_1 (<span style=\"color: #0087ff; text-decoration-color: #0087ff\">LSTM</span>)                        │ (<span style=\"color: #00d7ff; text-decoration-color: #00d7ff\">None</span>, <span style=\"color: #00af00; text-decoration-color: #00af00\">358</span>, <span style=\"color: #00af00; text-decoration-color: #00af00\">64</span>)             │          <span style=\"color: #00af00; text-decoration-color: #00af00\">33,024</span> │\n",
              "├──────────────────────────────────────┼─────────────────────────────┼─────────────────┤\n",
              "│ lstm_2 (<span style=\"color: #0087ff; text-decoration-color: #0087ff\">LSTM</span>)                        │ (<span style=\"color: #00d7ff; text-decoration-color: #00d7ff\">None</span>, <span style=\"color: #00af00; text-decoration-color: #00af00\">358</span>, <span style=\"color: #00af00; text-decoration-color: #00af00\">64</span>)             │          <span style=\"color: #00af00; text-decoration-color: #00af00\">33,024</span> │\n",
              "├──────────────────────────────────────┼─────────────────────────────┼─────────────────┤\n",
              "│ lstm_3 (<span style=\"color: #0087ff; text-decoration-color: #0087ff\">LSTM</span>)                        │ (<span style=\"color: #00d7ff; text-decoration-color: #00d7ff\">None</span>, <span style=\"color: #00af00; text-decoration-color: #00af00\">64</span>)                  │          <span style=\"color: #00af00; text-decoration-color: #00af00\">33,024</span> │\n",
              "├──────────────────────────────────────┼─────────────────────────────┼─────────────────┤\n",
              "│ dropout (<span style=\"color: #0087ff; text-decoration-color: #0087ff\">Dropout</span>)                    │ (<span style=\"color: #00d7ff; text-decoration-color: #00d7ff\">None</span>, <span style=\"color: #00af00; text-decoration-color: #00af00\">64</span>)                  │               <span style=\"color: #00af00; text-decoration-color: #00af00\">0</span> │\n",
              "├──────────────────────────────────────┼─────────────────────────────┼─────────────────┤\n",
              "│ dense (<span style=\"color: #0087ff; text-decoration-color: #0087ff\">Dense</span>)                        │ (<span style=\"color: #00d7ff; text-decoration-color: #00d7ff\">None</span>, <span style=\"color: #00af00; text-decoration-color: #00af00\">1</span>)                   │              <span style=\"color: #00af00; text-decoration-color: #00af00\">65</span> │\n",
              "└──────────────────────────────────────┴─────────────────────────────┴─────────────────┘\n",
              "</pre>\n"
            ]
          },
          "metadata": {}
        },
        {
          "output_type": "display_data",
          "data": {
            "text/plain": [
              "\u001b[1m Total params: \u001b[0m\u001b[38;5;34m132,993\u001b[0m (519.50 KB)\n"
            ],
            "text/html": [
              "<pre style=\"white-space:pre;overflow-x:auto;line-height:normal;font-family:Menlo,'DejaVu Sans Mono',consolas,'Courier New',monospace\"><span style=\"font-weight: bold\"> Total params: </span><span style=\"color: #00af00; text-decoration-color: #00af00\">132,993</span> (519.50 KB)\n",
              "</pre>\n"
            ]
          },
          "metadata": {}
        },
        {
          "output_type": "display_data",
          "data": {
            "text/plain": [
              "\u001b[1m Trainable params: \u001b[0m\u001b[38;5;34m132,993\u001b[0m (519.50 KB)\n"
            ],
            "text/html": [
              "<pre style=\"white-space:pre;overflow-x:auto;line-height:normal;font-family:Menlo,'DejaVu Sans Mono',consolas,'Courier New',monospace\"><span style=\"font-weight: bold\"> Trainable params: </span><span style=\"color: #00af00; text-decoration-color: #00af00\">132,993</span> (519.50 KB)\n",
              "</pre>\n"
            ]
          },
          "metadata": {}
        },
        {
          "output_type": "display_data",
          "data": {
            "text/plain": [
              "\u001b[1m Non-trainable params: \u001b[0m\u001b[38;5;34m0\u001b[0m (0.00 B)\n"
            ],
            "text/html": [
              "<pre style=\"white-space:pre;overflow-x:auto;line-height:normal;font-family:Menlo,'DejaVu Sans Mono',consolas,'Courier New',monospace\"><span style=\"font-weight: bold\"> Non-trainable params: </span><span style=\"color: #00af00; text-decoration-color: #00af00\">0</span> (0.00 B)\n",
              "</pre>\n"
            ]
          },
          "metadata": {}
        }
      ]
    },
    {
      "cell_type": "markdown",
      "source": [
        "# **Поиск**"
      ],
      "metadata": {
        "id": "_DncgUduJbOQ"
      }
    },
    {
      "cell_type": "code",
      "source": [
        "# Train the model\n",
        "\n",
        "history = model.fit(dataset, epochs = 7, verbose = 2, shuffle = False)\n"
      ],
      "metadata": {
        "id": "nGInukWElnEo",
        "colab": {
          "base_uri": "https://localhost:8080/"
        },
        "outputId": "40c7786e-c472-4c7f-a015-4a481ff1ba46"
      },
      "execution_count": null,
      "outputs": [
        {
          "output_type": "stream",
          "name": "stdout",
          "text": [
            "Epoch 1/7\n",
            "24/24 - 33s - 1s/step - loss: 0.2711 - mae: 0.2602 - mse: 0.1005\n",
            "Epoch 2/7\n"
          ]
        },
        {
          "output_type": "stream",
          "name": "stderr",
          "text": [
            "/usr/lib/python3.10/contextlib.py:153: UserWarning: Your input ran out of data; interrupting training. Make sure that your dataset or generator can generate at least `steps_per_epoch * epochs` batches. You may need to use the `.repeat()` function when building your dataset.\n",
            "  self.gen.throw(typ, value, traceback)\n"
          ]
        },
        {
          "output_type": "stream",
          "name": "stdout",
          "text": [
            "24/24 - 37s - 2s/step - loss: 0.1588 - mae: 0.1525 - mse: 0.0366\n",
            "Epoch 3/7\n",
            "24/24 - 41s - 2s/step - loss: 0.1535 - mae: 0.1473 - mse: 0.0331\n",
            "Epoch 4/7\n",
            "24/24 - 41s - 2s/step - loss: 0.1546 - mae: 0.1484 - mse: 0.0332\n",
            "Epoch 5/7\n",
            "24/24 - 41s - 2s/step - loss: 0.1541 - mae: 0.1480 - mse: 0.0336\n",
            "Epoch 6/7\n",
            "24/24 - 41s - 2s/step - loss: 0.1543 - mae: 0.1482 - mse: 0.0335\n",
            "Epoch 7/7\n",
            "24/24 - 41s - 2s/step - loss: 0.1539 - mae: 0.1478 - mse: 0.0332\n"
          ]
        }
      ]
    },
    {
      "cell_type": "code",
      "source": [
        "# TEST PREDICTION\n",
        "\n",
        "# Split data first\n",
        "split_dateSm = pd.to_datetime( '2024-04-30' )\n",
        "upper_boundary = pd.to_datetime( '2024-07-31' )\n",
        "train_dfSm = df_forFCST[ df_forFCST.index <= split_dateSm ]\n",
        "valid_dfSm = df_forFCST[ ( df_forFCST.index > split_dateSm ) & ( df_forFCST.index <= upper_boundary ) ]\n",
        "\n",
        "# max_mix = df_forFCST[ df_forFCST.index <= split_dateSm ]['y_mix'].max()\n",
        "max_mix = 679.8297498652444\n",
        "train_dfSm = add_time_features( train_dfSm, max_mix )\n",
        "valid_dfSm = add_time_features( valid_dfSm, max_mix )\n",
        "\n",
        "# Form numpy arrays\n",
        "time_trainSm = np.array( train_dfSm.reset_index()['ds'] )\n",
        "x_trainSm = np.array( train_dfSm[['y_mix', 'month_number', 'day_of_week', 'day_of_month']] )\n",
        "\n",
        "time_validSm = np.array( valid_dfSm.reset_index()['ds'])\n",
        "x_validSm = np.array( valid_dfSm[['y_mix', 'month_number', 'day_of_week', 'day_of_month']] )"
      ],
      "metadata": {
        "id": "SX6Wfp0X-RNs"
      },
      "execution_count": null,
      "outputs": []
    },
    {
      "cell_type": "code",
      "source": [
        "# Reduce the original series\n",
        "forecast_series = x_trainSm[-window_size:]\n",
        "\n",
        "\n",
        "forecast_period = ( pd.to_datetime( time_validSm[-1] ) - pd.to_datetime( time_validSm[0] ) ).days + 1\n",
        "final_result = np.empty( shape = (1, 1) )\n",
        "\n",
        "for period in range( forecast_period ):\n",
        "\n",
        "    forecast = model.predict( forecast_series[np.newaxis], verbose=0 )\n",
        "    results = forecast.squeeze()\n",
        "\n",
        "    forecast_date = time_validSm[0] + pd.Timedelta(days=period)\n",
        "    month_num = forecast_date.month / 12\n",
        "    day_of_week = forecast_date.dayofweek / 6\n",
        "    day_of_month = forecast_date.day / 31\n",
        "\n",
        "    # Append the new prediction and features\n",
        "    forecast_series = np.append( forecast_series,\n",
        "                                  [[ results, month_num, day_of_week, day_of_month ]], axis=0)\n",
        "    final_result = np.append( final_result, results )\n",
        "\n",
        "    # Remove the oldest data point\n",
        "    forecast_series = forecast_series[1:]\n",
        "\n",
        "\n",
        "final_result = final_result[ 1 : ] # extract only the predicted sales for plotting and grouping\n",
        "#print(x_validSm[ : forecast_period, 0 ] * max_mix, final_result * max_mix)\n",
        "#print(x_validSm[ : forecast_period, 0 ] * max_mix, final_result * max_mix)\n",
        "\n",
        "# Plot the results\n",
        "#plot_series( time_validSm[ : forecast_period ], \\\n",
        "#            ( x_validSm[ : forecast_period, 0 ] * max_mix, final_result * max_mix ), legend = ['x_valid', 'prediction']  )\n",
        "\n",
        "# group by months and estimate errors\n",
        "data = np.array( [ x_validSm[  : forecast_period, 0 ] * max_mix, final_result * max_mix ] ).T\n",
        "\n",
        "df_result = pd.DataFrame( data = data, index = time_validSm[ : forecast_period ],\n",
        "                          columns = [ \"x_valid\", \"prediction\"] )\n",
        "\n",
        "df_resultGR = df_result.groupby( pd.Grouper( freq = \"M\" ) ).sum()\n",
        "p_error = np.abs( np.array( df_resultGR[\"x_valid\"] ) - ( np.array( df_resultGR['prediction'] ) ) ) \\\n",
        "    / np.array( df_resultGR[\"x_valid\"] )\n",
        "\n",
        "df_resultGR = df_result.groupby( pd.Grouper( freq = \"M\" ) ).sum()\n",
        "df_resultGR['a_error'] = np.abs( np.round( \\\n",
        "    np.array( df_resultGR[\"x_valid\"] ) \\\n",
        "    - np.array( df_resultGR['prediction'] ), 0 ) )\n",
        "df_resultGR['p_error'] = np.round( ( np.array( df_resultGR[\"x_valid\"] ) \\\n",
        "    -  np.array( df_resultGR['prediction'] ) ) \\\n",
        "    / np.array( df_resultGR[\"x_valid\"] ), 2 )\n",
        "\n",
        "df_resultGR\n"
      ],
      "metadata": {
        "id": "-29UWj7z-ABd",
        "colab": {
          "base_uri": "https://localhost:8080/",
          "height": 143
        },
        "outputId": "c24502b9-4f22-42ec-a26e-78080ea09777"
      },
      "execution_count": null,
      "outputs": [
        {
          "output_type": "execute_result",
          "data": {
            "text/plain": [
              "            x_valid   prediction  a_error  p_error\n",
              "2024-05-31   9284.0  8358.277478    926.0     0.10\n",
              "2024-06-30   9035.0  8192.796052    842.0     0.09\n",
              "2024-07-31   9152.0  8590.570777    561.0     0.06"
            ],
            "text/html": [
              "\n",
              "  <div id=\"df-f9c0b640-f75d-46da-90d6-9c64487a2b92\" class=\"colab-df-container\">\n",
              "    <div>\n",
              "<style scoped>\n",
              "    .dataframe tbody tr th:only-of-type {\n",
              "        vertical-align: middle;\n",
              "    }\n",
              "\n",
              "    .dataframe tbody tr th {\n",
              "        vertical-align: top;\n",
              "    }\n",
              "\n",
              "    .dataframe thead th {\n",
              "        text-align: right;\n",
              "    }\n",
              "</style>\n",
              "<table border=\"1\" class=\"dataframe\">\n",
              "  <thead>\n",
              "    <tr style=\"text-align: right;\">\n",
              "      <th></th>\n",
              "      <th>x_valid</th>\n",
              "      <th>prediction</th>\n",
              "      <th>a_error</th>\n",
              "      <th>p_error</th>\n",
              "    </tr>\n",
              "  </thead>\n",
              "  <tbody>\n",
              "    <tr>\n",
              "      <th>2024-05-31</th>\n",
              "      <td>9284.0</td>\n",
              "      <td>8358.277478</td>\n",
              "      <td>926.0</td>\n",
              "      <td>0.10</td>\n",
              "    </tr>\n",
              "    <tr>\n",
              "      <th>2024-06-30</th>\n",
              "      <td>9035.0</td>\n",
              "      <td>8192.796052</td>\n",
              "      <td>842.0</td>\n",
              "      <td>0.09</td>\n",
              "    </tr>\n",
              "    <tr>\n",
              "      <th>2024-07-31</th>\n",
              "      <td>9152.0</td>\n",
              "      <td>8590.570777</td>\n",
              "      <td>561.0</td>\n",
              "      <td>0.06</td>\n",
              "    </tr>\n",
              "  </tbody>\n",
              "</table>\n",
              "</div>\n",
              "    <div class=\"colab-df-buttons\">\n",
              "\n",
              "  <div class=\"colab-df-container\">\n",
              "    <button class=\"colab-df-convert\" onclick=\"convertToInteractive('df-f9c0b640-f75d-46da-90d6-9c64487a2b92')\"\n",
              "            title=\"Convert this dataframe to an interactive table.\"\n",
              "            style=\"display:none;\">\n",
              "\n",
              "  <svg xmlns=\"http://www.w3.org/2000/svg\" height=\"24px\" viewBox=\"0 -960 960 960\">\n",
              "    <path d=\"M120-120v-720h720v720H120Zm60-500h600v-160H180v160Zm220 220h160v-160H400v160Zm0 220h160v-160H400v160ZM180-400h160v-160H180v160Zm440 0h160v-160H620v160ZM180-180h160v-160H180v160Zm440 0h160v-160H620v160Z\"/>\n",
              "  </svg>\n",
              "    </button>\n",
              "\n",
              "  <style>\n",
              "    .colab-df-container {\n",
              "      display:flex;\n",
              "      gap: 12px;\n",
              "    }\n",
              "\n",
              "    .colab-df-convert {\n",
              "      background-color: #E8F0FE;\n",
              "      border: none;\n",
              "      border-radius: 50%;\n",
              "      cursor: pointer;\n",
              "      display: none;\n",
              "      fill: #1967D2;\n",
              "      height: 32px;\n",
              "      padding: 0 0 0 0;\n",
              "      width: 32px;\n",
              "    }\n",
              "\n",
              "    .colab-df-convert:hover {\n",
              "      background-color: #E2EBFA;\n",
              "      box-shadow: 0px 1px 2px rgba(60, 64, 67, 0.3), 0px 1px 3px 1px rgba(60, 64, 67, 0.15);\n",
              "      fill: #174EA6;\n",
              "    }\n",
              "\n",
              "    .colab-df-buttons div {\n",
              "      margin-bottom: 4px;\n",
              "    }\n",
              "\n",
              "    [theme=dark] .colab-df-convert {\n",
              "      background-color: #3B4455;\n",
              "      fill: #D2E3FC;\n",
              "    }\n",
              "\n",
              "    [theme=dark] .colab-df-convert:hover {\n",
              "      background-color: #434B5C;\n",
              "      box-shadow: 0px 1px 3px 1px rgba(0, 0, 0, 0.15);\n",
              "      filter: drop-shadow(0px 1px 2px rgba(0, 0, 0, 0.3));\n",
              "      fill: #FFFFFF;\n",
              "    }\n",
              "  </style>\n",
              "\n",
              "    <script>\n",
              "      const buttonEl =\n",
              "        document.querySelector('#df-f9c0b640-f75d-46da-90d6-9c64487a2b92 button.colab-df-convert');\n",
              "      buttonEl.style.display =\n",
              "        google.colab.kernel.accessAllowed ? 'block' : 'none';\n",
              "\n",
              "      async function convertToInteractive(key) {\n",
              "        const element = document.querySelector('#df-f9c0b640-f75d-46da-90d6-9c64487a2b92');\n",
              "        const dataTable =\n",
              "          await google.colab.kernel.invokeFunction('convertToInteractive',\n",
              "                                                    [key], {});\n",
              "        if (!dataTable) return;\n",
              "\n",
              "        const docLinkHtml = 'Like what you see? Visit the ' +\n",
              "          '<a target=\"_blank\" href=https://colab.research.google.com/notebooks/data_table.ipynb>data table notebook</a>'\n",
              "          + ' to learn more about interactive tables.';\n",
              "        element.innerHTML = '';\n",
              "        dataTable['output_type'] = 'display_data';\n",
              "        await google.colab.output.renderOutput(dataTable, element);\n",
              "        const docLink = document.createElement('div');\n",
              "        docLink.innerHTML = docLinkHtml;\n",
              "        element.appendChild(docLink);\n",
              "      }\n",
              "    </script>\n",
              "  </div>\n",
              "\n",
              "\n",
              "<div id=\"df-8f8f9c3e-61f4-469c-9be5-b756d524d5eb\">\n",
              "  <button class=\"colab-df-quickchart\" onclick=\"quickchart('df-8f8f9c3e-61f4-469c-9be5-b756d524d5eb')\"\n",
              "            title=\"Suggest charts\"\n",
              "            style=\"display:none;\">\n",
              "\n",
              "<svg xmlns=\"http://www.w3.org/2000/svg\" height=\"24px\"viewBox=\"0 0 24 24\"\n",
              "     width=\"24px\">\n",
              "    <g>\n",
              "        <path d=\"M19 3H5c-1.1 0-2 .9-2 2v14c0 1.1.9 2 2 2h14c1.1 0 2-.9 2-2V5c0-1.1-.9-2-2-2zM9 17H7v-7h2v7zm4 0h-2V7h2v10zm4 0h-2v-4h2v4z\"/>\n",
              "    </g>\n",
              "</svg>\n",
              "  </button>\n",
              "\n",
              "<style>\n",
              "  .colab-df-quickchart {\n",
              "      --bg-color: #E8F0FE;\n",
              "      --fill-color: #1967D2;\n",
              "      --hover-bg-color: #E2EBFA;\n",
              "      --hover-fill-color: #174EA6;\n",
              "      --disabled-fill-color: #AAA;\n",
              "      --disabled-bg-color: #DDD;\n",
              "  }\n",
              "\n",
              "  [theme=dark] .colab-df-quickchart {\n",
              "      --bg-color: #3B4455;\n",
              "      --fill-color: #D2E3FC;\n",
              "      --hover-bg-color: #434B5C;\n",
              "      --hover-fill-color: #FFFFFF;\n",
              "      --disabled-bg-color: #3B4455;\n",
              "      --disabled-fill-color: #666;\n",
              "  }\n",
              "\n",
              "  .colab-df-quickchart {\n",
              "    background-color: var(--bg-color);\n",
              "    border: none;\n",
              "    border-radius: 50%;\n",
              "    cursor: pointer;\n",
              "    display: none;\n",
              "    fill: var(--fill-color);\n",
              "    height: 32px;\n",
              "    padding: 0;\n",
              "    width: 32px;\n",
              "  }\n",
              "\n",
              "  .colab-df-quickchart:hover {\n",
              "    background-color: var(--hover-bg-color);\n",
              "    box-shadow: 0 1px 2px rgba(60, 64, 67, 0.3), 0 1px 3px 1px rgba(60, 64, 67, 0.15);\n",
              "    fill: var(--button-hover-fill-color);\n",
              "  }\n",
              "\n",
              "  .colab-df-quickchart-complete:disabled,\n",
              "  .colab-df-quickchart-complete:disabled:hover {\n",
              "    background-color: var(--disabled-bg-color);\n",
              "    fill: var(--disabled-fill-color);\n",
              "    box-shadow: none;\n",
              "  }\n",
              "\n",
              "  .colab-df-spinner {\n",
              "    border: 2px solid var(--fill-color);\n",
              "    border-color: transparent;\n",
              "    border-bottom-color: var(--fill-color);\n",
              "    animation:\n",
              "      spin 1s steps(1) infinite;\n",
              "  }\n",
              "\n",
              "  @keyframes spin {\n",
              "    0% {\n",
              "      border-color: transparent;\n",
              "      border-bottom-color: var(--fill-color);\n",
              "      border-left-color: var(--fill-color);\n",
              "    }\n",
              "    20% {\n",
              "      border-color: transparent;\n",
              "      border-left-color: var(--fill-color);\n",
              "      border-top-color: var(--fill-color);\n",
              "    }\n",
              "    30% {\n",
              "      border-color: transparent;\n",
              "      border-left-color: var(--fill-color);\n",
              "      border-top-color: var(--fill-color);\n",
              "      border-right-color: var(--fill-color);\n",
              "    }\n",
              "    40% {\n",
              "      border-color: transparent;\n",
              "      border-right-color: var(--fill-color);\n",
              "      border-top-color: var(--fill-color);\n",
              "    }\n",
              "    60% {\n",
              "      border-color: transparent;\n",
              "      border-right-color: var(--fill-color);\n",
              "    }\n",
              "    80% {\n",
              "      border-color: transparent;\n",
              "      border-right-color: var(--fill-color);\n",
              "      border-bottom-color: var(--fill-color);\n",
              "    }\n",
              "    90% {\n",
              "      border-color: transparent;\n",
              "      border-bottom-color: var(--fill-color);\n",
              "    }\n",
              "  }\n",
              "</style>\n",
              "\n",
              "  <script>\n",
              "    async function quickchart(key) {\n",
              "      const quickchartButtonEl =\n",
              "        document.querySelector('#' + key + ' button');\n",
              "      quickchartButtonEl.disabled = true;  // To prevent multiple clicks.\n",
              "      quickchartButtonEl.classList.add('colab-df-spinner');\n",
              "      try {\n",
              "        const charts = await google.colab.kernel.invokeFunction(\n",
              "            'suggestCharts', [key], {});\n",
              "      } catch (error) {\n",
              "        console.error('Error during call to suggestCharts:', error);\n",
              "      }\n",
              "      quickchartButtonEl.classList.remove('colab-df-spinner');\n",
              "      quickchartButtonEl.classList.add('colab-df-quickchart-complete');\n",
              "    }\n",
              "    (() => {\n",
              "      let quickchartButtonEl =\n",
              "        document.querySelector('#df-8f8f9c3e-61f4-469c-9be5-b756d524d5eb button');\n",
              "      quickchartButtonEl.style.display =\n",
              "        google.colab.kernel.accessAllowed ? 'block' : 'none';\n",
              "    })();\n",
              "  </script>\n",
              "</div>\n",
              "    </div>\n",
              "  </div>\n"
            ],
            "application/vnd.google.colaboratory.intrinsic+json": {
              "type": "dataframe",
              "variable_name": "df_resultGR",
              "summary": "{\n  \"name\": \"df_resultGR\",\n  \"rows\": 3,\n  \"fields\": [\n    {\n      \"column\": \"x_valid\",\n      \"properties\": {\n        \"dtype\": \"number\",\n        \"std\": 124.57527844640765,\n        \"min\": 9035.0,\n        \"max\": 9284.0,\n        \"num_unique_values\": 3,\n        \"samples\": [\n          9284.0,\n          9035.0,\n          9152.0\n        ],\n        \"semantic_type\": \"\",\n        \"description\": \"\"\n      }\n    },\n    {\n      \"column\": \"prediction\",\n      \"properties\": {\n        \"dtype\": \"number\",\n        \"std\": 199.82034048442708,\n        \"min\": 8192.796051701716,\n        \"max\": 8590.57077657954,\n        \"num_unique_values\": 3,\n        \"samples\": [\n          8358.277477539237,\n          8192.796051701716,\n          8590.57077657954\n        ],\n        \"semantic_type\": \"\",\n        \"description\": \"\"\n      }\n    },\n    {\n      \"column\": \"a_error\",\n      \"properties\": {\n        \"dtype\": \"number\",\n        \"std\": 191.15525975848357,\n        \"min\": 561.0,\n        \"max\": 926.0,\n        \"num_unique_values\": 3,\n        \"samples\": [\n          926.0,\n          842.0,\n          561.0\n        ],\n        \"semantic_type\": \"\",\n        \"description\": \"\"\n      }\n    },\n    {\n      \"column\": \"p_error\",\n      \"properties\": {\n        \"dtype\": \"number\",\n        \"std\": 0.02081665999466133,\n        \"min\": 0.06,\n        \"max\": 0.1,\n        \"num_unique_values\": 3,\n        \"samples\": [\n          0.1,\n          0.09,\n          0.06\n        ],\n        \"semantic_type\": \"\",\n        \"description\": \"\"\n      }\n    }\n  ]\n}"
            }
          },
          "metadata": {},
          "execution_count": 67
        }
      ]
    },
    {
      "cell_type": "code",
      "source": [
        "df = pd.DataFrame(history.history)\n",
        "df = df\n",
        "df.plot(y=['loss'])\n"
      ],
      "metadata": {
        "colab": {
          "base_uri": "https://localhost:8080/",
          "height": 447
        },
        "id": "ucylgxDARlJ1",
        "outputId": "b20d4e24-fdc8-423d-8528-91a6fe856ced"
      },
      "execution_count": null,
      "outputs": [
        {
          "output_type": "execute_result",
          "data": {
            "text/plain": [
              "<Axes: >"
            ]
          },
          "metadata": {},
          "execution_count": 43
        },
        {
          "output_type": "display_data",
          "data": {
            "text/plain": [
              "<Figure size 640x480 with 1 Axes>"
            ],
            "image/png": "[encoded data removed]"
          },
          "metadata": {}
        }
      ]
    },
    {
      "cell_type": "markdown",
      "source": [
        "# Now we start final training, here are 5 models setups, train each of them from the scratch and choose median\n",
        "#may repeat this 3 times and choose average result"
      ],
      "metadata": {
        "id": "qeWZAvePAv8X"
      }
    },
    {
      "cell_type": "code",
      "source": [
        "batchsi = [64]\n",
        "lratesi = [1e-4, 1e-4, 3e-4, 3e-4, 8e-4]\n",
        "weedi  =  [8e-4, 2e-3, 3e-4, 5e-3, 5e-3]\n",
        "dpi = [0.5, 0.5, 0.5, 0.5, 0.5, 0.5, 0.5]\n",
        "bests = []"
      ],
      "metadata": {
        "id": "nEGnBrBosLuP"
      },
      "execution_count": null,
      "outputs": []
    },
    {
      "cell_type": "markdown",
      "source": [
        "**доп**"
      ],
      "metadata": {
        "id": "wIlN1-WwUv8m"
      }
    },
    {
      "cell_type": "code",
      "source": [
        "for i in range(len(lratesi)):\n",
        "                weed = weedi[i]\n",
        "                dp = dpi[i]\n",
        "                lrate = lratesi[i]\n",
        "                batchs = 64\n",
        "                window_size = 360\n",
        "                input_shape = (window_size, x_trainSm.shape[1])\n",
        "\n",
        "                tf.keras.backend.clear_session()\n",
        "                model = get_model(input_shape, weed, dp)\n",
        "                get_compile(model, lrate)\n",
        "                history = model.fit(dataset, epochs = 10, verbose = 0, shuffle = False)\n",
        "\n",
        "                # Split data first\n",
        "                split_dateSm = pd.to_datetime( '2024-04-30' )\n",
        "                upper_boundary = pd.to_datetime( '2024-07-31' )\n",
        "                train_dfSm = df_forFCST[ df_forFCST.index <= split_dateSm ]\n",
        "                valid_dfSm = df_forFCST[ ( df_forFCST.index > split_dateSm ) & ( df_forFCST.index <= upper_boundary ) ]\n",
        "\n",
        "                # max_mix = df_forFCST[ df_forFCST.index <= split_dateSm ]['y_mix'].max()\n",
        "                max_mix = 679.8297498652444\n",
        "                train_dfSm = add_time_features( train_dfSm, max_mix )\n",
        "                valid_dfSm = add_time_features( valid_dfSm, max_mix )\n",
        "\n",
        "                # Form numpy arrays\n",
        "                time_trainSm = np.array( train_dfSm.reset_index()['ds'] )\n",
        "                x_trainSm = np.array( train_dfSm[['y_mix', 'month_number', 'day_of_week', 'day_of_month']] )\n",
        "\n",
        "                time_validSm = np.array( valid_dfSm.reset_index()['ds'])\n",
        "                x_validSm = np.array( valid_dfSm[['y_mix', 'month_number', 'day_of_week', 'day_of_month']] )\n",
        "\n",
        "\n",
        "                # Reduce the original series\n",
        "                forecast_series = x_trainSm[-window_size:]\n",
        "\n",
        "\n",
        "                forecast_period = ( pd.to_datetime( time_validSm[-1] ) - pd.to_datetime( time_validSm[0] ) ).days + 1\n",
        "                final_result = np.empty( shape = (1, 1) )\n",
        "\n",
        "                for period in range( forecast_period ):\n",
        "\n",
        "                    forecast = model.predict( forecast_series[np.newaxis], verbose=0 )\n",
        "                    results = forecast.squeeze()\n",
        "\n",
        "                    forecast_date = time_validSm[0] + pd.Timedelta(days=period)\n",
        "                    month_num = forecast_date.month / 12\n",
        "                    day_of_week = forecast_date.dayofweek / 6\n",
        "                    day_of_month = forecast_date.day / 31\n",
        "\n",
        "                    forecast_series = np.append( forecast_series,\n",
        "                                                [[ results, month_num, day_of_week, day_of_month ]], axis=0)\n",
        "                    final_result = np.append( final_result, results )\n",
        "\n",
        "                    forecast_series = forecast_series[1:]\n",
        "\n",
        "                final_result = final_result[ 1 : ]\n",
        "                data = np.array( [ x_validSm[  : forecast_period, 0 ] * max_mix, final_result * max_mix ] ).T\n",
        "\n",
        "                df_result = pd.DataFrame( data = data, index = time_validSm[ : forecast_period ],\n",
        "                                        columns = [ \"x_valid\", \"prediction\"] )\n",
        "\n",
        "                df_resultGR = df_result.groupby( pd.Grouper( freq = \"M\" ) ).sum()\n",
        "                p_error = np.abs( np.array( df_resultGR[\"x_valid\"] ) - ( np.array( df_resultGR['prediction'] ) ) ) \\\n",
        "                    / np.array( df_resultGR[\"x_valid\"] )\n",
        "\n",
        "                df_resultGR = df_result.groupby( pd.Grouper( freq = \"M\" ) ).sum()\n",
        "                df_resultGR['a_error'] = np.abs( np.round( \\\n",
        "                    np.array( df_resultGR[\"x_valid\"] ) \\\n",
        "                    - np.array( df_resultGR['prediction'] ), 0 ) )\n",
        "                df_resultGR['p_error'] = np.round( ( np.array( df_resultGR[\"x_valid\"] ) \\\n",
        "                    -  np.array( df_resultGR['prediction'] ) ) \\\n",
        "                    / np.array( df_resultGR[\"x_valid\"] ), 2 )\n",
        "                print(df_resultGR['prediction'].values, df_resultGR['x_valid'].values, df_resultGR['p_error'].values)\n",
        "                bests.append(df_resultGR['prediction'].values)"
      ],
      "metadata": {
        "id": "aDNMmylMrdmI",
        "colab": {
          "base_uri": "https://localhost:8080/"
        },
        "outputId": "fc7c23f5-f1bf-4dc1-8dde-2bcc1f34a347"
      },
      "execution_count": null,
      "outputs": [
        {
          "output_type": "stream",
          "name": "stdout",
          "text": [
            "[8737.16444758 9381.14716373 9205.48805536] [8855. 8299. 8303.] [ 0.01 -0.13 -0.11]\n"
          ]
        },
        {
          "output_type": "stream",
          "name": "stderr",
          "text": [
            "/usr/local/lib/python3.10/dist-packages/keras/src/layers/convolutional/base_conv.py:107: UserWarning: Do not pass an `input_shape`/`input_dim` argument to a layer. When using Sequential models, prefer using an `Input(shape)` object as the first layer in the model instead.\n",
            "  super().__init__(activity_regularizer=activity_regularizer, **kwargs)\n",
            "/usr/lib/python3.10/contextlib.py:153: UserWarning: Your input ran out of data; interrupting training. Make sure that your dataset or generator can generate at least `steps_per_epoch * epochs` batches. You may need to use the `.repeat()` function when building your dataset.\n",
            "  self.gen.throw(typ, value, traceback)\n"
          ]
        },
        {
          "output_type": "stream",
          "name": "stdout",
          "text": [
            "[8452.35662773 9038.4760699  8789.39684086] [8855. 8299. 8303.] [ 0.05 -0.09 -0.06]\n"
          ]
        },
        {
          "output_type": "stream",
          "name": "stderr",
          "text": [
            "/usr/local/lib/python3.10/dist-packages/keras/src/layers/convolutional/base_conv.py:107: UserWarning: Do not pass an `input_shape`/`input_dim` argument to a layer. When using Sequential models, prefer using an `Input(shape)` object as the first layer in the model instead.\n",
            "  super().__init__(activity_regularizer=activity_regularizer, **kwargs)\n",
            "/usr/lib/python3.10/contextlib.py:153: UserWarning: Your input ran out of data; interrupting training. Make sure that your dataset or generator can generate at least `steps_per_epoch * epochs` batches. You may need to use the `.repeat()` function when building your dataset.\n",
            "  self.gen.throw(typ, value, traceback)\n"
          ]
        },
        {
          "output_type": "stream",
          "name": "stdout",
          "text": [
            "[7418.02186598 8083.63526496 8000.09271215] [8855. 8299. 8303.] [0.16 0.03 0.04]\n"
          ]
        },
        {
          "output_type": "stream",
          "name": "stderr",
          "text": [
            "/usr/local/lib/python3.10/dist-packages/keras/src/layers/convolutional/base_conv.py:107: UserWarning: Do not pass an `input_shape`/`input_dim` argument to a layer. When using Sequential models, prefer using an `Input(shape)` object as the first layer in the model instead.\n",
            "  super().__init__(activity_regularizer=activity_regularizer, **kwargs)\n",
            "/usr/lib/python3.10/contextlib.py:153: UserWarning: Your input ran out of data; interrupting training. Make sure that your dataset or generator can generate at least `steps_per_epoch * epochs` batches. You may need to use the `.repeat()` function when building your dataset.\n",
            "  self.gen.throw(typ, value, traceback)\n"
          ]
        },
        {
          "output_type": "stream",
          "name": "stdout",
          "text": [
            "[7944.83941674 8637.26410977 8566.22472004] [8855. 8299. 8303.] [ 0.1  -0.04 -0.03]\n"
          ]
        },
        {
          "output_type": "stream",
          "name": "stderr",
          "text": [
            "/usr/local/lib/python3.10/dist-packages/keras/src/layers/convolutional/base_conv.py:107: UserWarning: Do not pass an `input_shape`/`input_dim` argument to a layer. When using Sequential models, prefer using an `Input(shape)` object as the first layer in the model instead.\n",
            "  super().__init__(activity_regularizer=activity_regularizer, **kwargs)\n",
            "/usr/lib/python3.10/contextlib.py:153: UserWarning: Your input ran out of data; interrupting training. Make sure that your dataset or generator can generate at least `steps_per_epoch * epochs` batches. You may need to use the `.repeat()` function when building your dataset.\n",
            "  self.gen.throw(typ, value, traceback)\n"
          ]
        },
        {
          "output_type": "stream",
          "name": "stdout",
          "text": [
            "[8062.78570565 8711.99538905 8546.35112953] [8855. 8299. 8303.] [ 0.09 -0.05 -0.03]\n"
          ]
        }
      ]
    },
    {
      "cell_type": "code",
      "source": [
        "print(*bests, sep = '\\n')\n",
        "#360\n",
        "#64, 0.0001, 0.0003, 0.5, array([-0.01,  0.04,  0.02]) in 2 5 3 ** nos used\n",
        "#64, 0.0001, 0.0008, 0.5, array([-0.04,  0.03,  0.01]) in 2 3 3 ***\n",
        "#64, 0.0001, 0.002, 0.5, array([-0.  ,  0.05,  0.03]) in 3 3 2 ***\n",
        "#64, 0.0003, 0.0003, 0.5, array([-0.03,  0.04,  0.04]) in 2 3 2 ***\n",
        "#64, 0.0003, 0.005, 0.5, array([-0.01,  0.04,  0.02]) in 3 2 2 ****\n",
        "#64, 0.0008, 0.0008, 0.5, array([-0.03,  0.04,  0.03]) in 4 3 4 ** noy used\n",
        "#64, 0.0008, 0.005, 0.5, array([-0.  03,  0.04,  0.03]) in 3 3 3 ***\n",
        "\n",
        "#we take 5 3 + star models, train them and take the median values for each month\n",
        "#answer would be [8993, 8798, 9092]\n",
        "#here result luckily is 3/3/1 % deviation for each month"
      ],
      "metadata": {
        "id": "DwRQFcaBt4by",
        "colab": {
          "base_uri": "https://localhost:8080/"
        },
        "outputId": "dda7f8c0-b615-4048-94a6-03fb02b0baaf"
      },
      "execution_count": null,
      "outputs": [
        {
          "output_type": "stream",
          "name": "stdout",
          "text": [
            "[8737.16444758 9381.14716373 9205.48805536]\n",
            "[8452.35662773 9038.4760699  8789.39684086]\n",
            "[7418.02186598 8083.63526496 8000.09271215]\n",
            "[7944.83941674 8637.26410977 8566.22472004]\n",
            "[8062.78570565 8711.99538905 8546.35112953]\n"
          ]
        }
      ]
    },
    {
      "cell_type": "markdown",
      "source": [
        "End of final test"
      ],
      "metadata": {
        "id": "rdFF03PUBWEI"
      }
    }
  ]
}