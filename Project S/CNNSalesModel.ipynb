{
  "cells": [
    {
      "cell_type": "code",
      "execution_count": null,
      "metadata": {
        "id": "DoWbwb5zk493"
      },
      "outputs": [],
      "source": [
        "import tensorflow as tf\n",
        "from scipy.io import loadmat\n",
        "import matplotlib.pyplot as plt\n",
        "import numpy as np\n",
        "from tensorflow.keras.preprocessing.image import load_img, img_to_array\n",
        "from tensorflow.keras.models import Sequential, load_model\n",
        "from tensorflow.keras.layers import Dense, Flatten, Conv1D, MaxPooling1D, Dropout, BatchNormalization, LSTM, Reshape\n",
        "from tensorflow.keras.callbacks import ModelCheckpoint, EarlyStopping\n",
        "import os\n",
        "import pandas as pd\n",
        "from tensorflow.keras.optimizers import Adam\n",
        "from tensorflow.keras import regularizers\n",
        "from sklearn.preprocessing import MinMaxScaler\n",
        "from sklearn.metrics import mean_squared_error\n",
        "from tensorflow.keras.losses import Huber\n",
        "from tensorflow.keras.regularizers import l2\n",
        "from tensorflow.keras.initializers import HeNormal\n",
        "import time\n",
        "import datetime\n",
        "from pandas.tseries.offsets import DateOffset\n",
        "#from sktime.utils.plotting import plot_series"
      ]
    },
    {
      "cell_type": "code",
      "execution_count": null,
      "metadata": {
        "colab": {
          "base_uri": "https://localhost:8080/"
        },
        "id": "Sc_ln1KglmxJ",
        "outputId": "cf3e2724-82df-4b09-d29e-19975f6b832c"
      },
      "outputs": [
        {
          "output_type": "stream",
          "name": "stdout",
          "text": [
            "Mounted at /content/gdrive\n"
          ]
        }
      ],
      "source": [
        "# Run this cell to connect to your Drive folder\n",
        "\n",
        "from google.colab import drive\n",
        "drive.mount('/content/gdrive')"
      ]
    },
    {
      "cell_type": "code",
      "execution_count": null,
      "metadata": {
        "id": "CkDmcNvAF_Mn"
      },
      "outputs": [],
      "source": [
        "#from google.colab import files\n",
        "#uploaded = files.upload()"
      ]
    },
    {
      "cell_type": "code",
      "execution_count": null,
      "metadata": {
        "colab": {
          "base_uri": "https://localhost:8080/"
        },
        "id": "g6fIp4P7lnn5",
        "outputId": "7a6ffddd-d0e2-4cae-aab0-456643793144"
      },
      "outputs": [
        {
          "output_type": "stream",
          "name": "stdout",
          "text": [
            "ds\n",
            "2019-01-01    135.893037\n",
            "2019-01-02     45.361847\n",
            "2019-01-03     74.523035\n",
            "2019-01-04    108.004398\n",
            "2019-01-05     71.282903\n",
            "                 ...    \n",
            "2024-07-27    100.898801\n",
            "2024-07-28     83.893385\n",
            "2024-07-29    362.231558\n",
            "2024-07-30    411.531065\n",
            "2024-07-31    409.263676\n",
            "Name: y_mix, Length: 2039, dtype: float64\n"
          ]
        }
      ],
      "source": [
        "df_forFCST = pd.read_csv(  r'/content/gdrive/MyDrive/DataStore/salesD_smoothed.csv' )\n",
        "#df_forFCST = pd.read_csv(  r'/content/gdrive/MyDrive/DataStore/Копия salesD_smoothed (1) - salesD_smoothed (1).csv (1).csv')\n",
        "# Create a BytesIO object from the uploaded file\n",
        "#file_content = io.BytesIO(uploaded['salesD_smoothed (1).csv'])\n",
        "\n",
        "\n",
        "df_forFCST.set_index( 'ds', inplace = True )\n",
        "df_forFCST.index = pd.to_datetime( df_forFCST.index )\n",
        "df_forFCST.index\n",
        "print(df_forFCST['y_mix'])\n"
      ]
    },
    {
      "cell_type": "code",
      "execution_count": null,
      "metadata": {
        "id": "_ur_ObLBlnwK"
      },
      "outputs": [],
      "source": [
        "def windowed_dataset( series, window_size, batch_size ):\n",
        "    \"\"\"Generates dataset windows\n",
        "\n",
        "    Args:\n",
        "      series (array of float) - contains the values of the time series\n",
        "      window_size (int) - the number of time steps to include in the feature\n",
        "      batch_size (int) - the batch size\n",
        "      shuffle_buffer(int) - buffer size to use for the shuffle method\n",
        "\n",
        "    Returns:\n",
        "      dataset (TF Dataset) - TF Dataset containing time windows\n",
        "    \"\"\"\n",
        "\n",
        "    # Generate a TF Dataset from the series values\n",
        "    dataset = tf.data.Dataset.from_tensor_slices(series)\n",
        "\n",
        "    # Window the data but only take those with the specified size\n",
        "    dataset = dataset.window(window_size + 1, shift=1, drop_remainder=True)\n",
        "\n",
        "    # Flatten the windows by putting its elements in a single batch\n",
        "    dataset = dataset.flat_map(lambda window: window.batch(window_size + 1))\n",
        "\n",
        "    # Create tuples with features and labels\n",
        "    dataset = dataset.map(lambda window: (window[:-1], window[-1, 0])) # Extract 'y_mix' as the label\n",
        "\n",
        "    # Create batches of windows\n",
        "    # dataset = dataset.batch( batch_size ).prefetch(1)\n",
        "    dataset = dataset.batch(batch_size, drop_remainder=True).prefetch(1)\n",
        "\n",
        "    return dataset\n",
        "\n",
        "# Visualizes time series data\n",
        "def plot_series(x, y, format=\"-\", start=0, end=None,\n",
        "                title=None, xlabel=None, ylabel=None, legend=None ):\n",
        "    \"\"\"\n",
        "    Visualizes time series data\n",
        "\n",
        "    Args:\n",
        "      x (array of int) - contains values for the x-axis\n",
        "      y (array of int or tuple of arrays) - contains the values for the y-axis\n",
        "      format (string) - line style when plotting the graph\n",
        "      label (string) - tag for the line\n",
        "      start (int) - first time step to plot\n",
        "      end (int) - last time step to plot\n",
        "      title (string) - title of the plot\n",
        "      xlabel (string) - label for the x-axis\n",
        "      ylabel (string) - label for the y-axis\n",
        "      legend (list of strings) - legend for the plot\n",
        "    \"\"\"\n",
        "\n",
        "    # Setup dimensions of the graph figure\n",
        "    plt.figure(figsize=(8, 4))\n",
        "\n",
        "    # Check if there are more than two series to plot\n",
        "    if type(y) is tuple:\n",
        "\n",
        "      # Loop over the y elements\n",
        "      for y_curr in y:\n",
        "\n",
        "        # Plot the x and current y values\n",
        "        plt.plot(x[start:end], y_curr[start:end], format)\n",
        "\n",
        "    else:\n",
        "      # Plot the x and y values\n",
        "      plt.plot(x[start:end], y[start:end], format)\n",
        "\n",
        "    # Label the x-axis\n",
        "    plt.xlabel(xlabel)\n",
        "\n",
        "    # Label the y-axis\n",
        "    plt.ylabel(ylabel)\n",
        "\n",
        "    # Set the legend\n",
        "    if legend:\n",
        "      plt.legend(legend)\n",
        "\n",
        "    # Set the title\n",
        "    plt.title(title)\n",
        "\n",
        "    # Overlay a grid on the graph\n",
        "    plt.grid(True)\n",
        "\n",
        "    # Draw the graph on screen\n",
        "    plt.show()\n",
        "\n",
        "# Feature engineering after split\n",
        "def add_time_features( df, max_mix ):\n",
        "  df = df.copy()\n",
        "  # max_mix = df.y_mix.max()\n",
        "  df['y_mix'] = df.y_mix / max_mix\n",
        "  df['month_number'] = df.index.month / df.index.month.max()\n",
        "  df['day_of_week'] = df.index.dayofweek / df.index.dayofweek.max()\n",
        "  df['day_of_month'] = df.index.day / df.index.day.max()\n",
        "  return df"
      ]
    },
    {
      "cell_type": "code",
      "execution_count": null,
      "metadata": {
        "id": "iM1Q_RUXlnth"
      },
      "outputs": [],
      "source": [
        "def get_model(input_shape, wd = 1e-3):\n",
        "    model = Sequential([\n",
        "        Conv1D(filters=128, kernel_size=3, activation='relu', input_shape = input_shape, kernel_initializer=HeNormal()),\n",
        "        MaxPooling1D(pool_size=2),\n",
        "\n",
        "        Flatten(),\n",
        "\n",
        "        Dense(256, activation='relu', kernel_regularizer=l2(wd)),\n",
        "        Dense(128, activation='relu', kernel_regularizer=l2(wd)),\n",
        "        Dense(128, activation='relu', kernel_regularizer=l2(wd)),\n",
        "        Dense(64, activation='relu', kernel_regularizer=l2(wd)),\n",
        "        Dense(1)\n",
        "    ])\n",
        "    return model\n",
        "#wd 1e-4\n"
      ]
    },
    {
      "cell_type": "code",
      "execution_count": null,
      "metadata": {
        "id": "rlD6DjVgyKCy"
      },
      "outputs": [],
      "source": [
        "def get_compile(model, lrate = 1e-3):\n",
        "    optimizer = tf.keras.optimizers.SGD(momentum=0.9, learning_rate=lrate)\n",
        "\n",
        "    model.compile(optimizer=optimizer,\n",
        "              #loss='huber',\n",
        "                loss = 'mae',\n",
        "                  metrics = ['mae', 'mse'])\n",
        "\n",
        "def get_checkpoint_every_epoch():\n",
        "    return ModelCheckpoint(\n",
        "        filepath='/content/gdrive/MyDrive/var/FTryModel/checkpoints_every_epoch/checkpoint_{epoch:03d}.weights.h5',\n",
        "        save_weights_only=True,\n",
        "        save_freq='epoch',\n",
        "    )\n",
        "\n",
        "def get_checkpoint_best_only():\n",
        "    return ModelCheckpoint(\n",
        "        filepath='/content/gdrive/MyDrive/var/FTryModel/checkpoints_best_only/checkpoint.weights.h5',\n",
        "        save_weights_only=True,\n",
        "        monitor='loss',\n",
        "        save_best_only=True,\n",
        "        mode='min',\n",
        "    )\n",
        "\n",
        "def get_early_stopping():\n",
        "    return EarlyStopping(monitor='loss', patience=100, mode='min', min_delta=0.005)\n",
        "\n",
        "def get_lr_schedule():\n",
        "    lr_schedule = tf.keras.callbacks.LearningRateScheduler(\n",
        "    lambda epoch: 1e-9 * 10**(epoch / 15))\n",
        "    return lr_schedule\n",
        "\n"
      ]
    },
    {
      "cell_type": "code",
      "execution_count": null,
      "metadata": {
        "colab": {
          "base_uri": "https://localhost:8080/"
        },
        "id": "sQgp7kw-6Kn8",
        "outputId": "3050ad48-9721-4eea-d746-c5cc02f28ff6"
      },
      "outputs": [
        {
          "output_type": "stream",
          "name": "stdout",
          "text": [
            "2039\n"
          ]
        }
      ],
      "source": [
        "# Split data first\n",
        "split_dateSm = pd.to_datetime( '2024-07-31' )\n",
        "train_dfSm = df_forFCST[ df_forFCST.index <= split_dateSm ]\n",
        "# valid_dfSm = df_forFCST[ df_forFCST.index > split_dateSm ]\n",
        "\n",
        "\n",
        "max_mix = df_forFCST[ df_forFCST.index <= split_dateSm ]['y_mix'].max()\n",
        "train_dfSm = add_time_features( train_dfSm, max_mix )\n",
        "# valid_dfSm = add_time_features( valid_dfSm, max_mix )\n",
        "\n",
        "# Form numpy arrays\n",
        "time_trainSm = np.array( train_dfSm.reset_index()['ds'] )\n",
        "x_trainSm = np.array( train_dfSm[['y_mix', 'month_number', 'day_of_week', 'day_of_month']] )\n",
        "\n",
        "# time_validSm = np.array( valid_dfSm.reset_index()['ds'])\n",
        "# x_validSm = np.array( valid_dfSm[['y_mix', 'month_number', 'day_of_week', 'day_of_month']] )\n",
        "print(len(x_trainSm))"
      ]
    },
    {
      "cell_type": "markdown",
      "metadata": {
        "id": "BoYe-2hJVtUN"
      },
      "source": []
    },
    {
      "cell_type": "code",
      "execution_count": null,
      "metadata": {
        "id": "wxconHGylnAg"
      },
      "outputs": [],
      "source": [
        "checkpoint_every_epoch = get_checkpoint_every_epoch()\n",
        "checkpoint_best_only = get_checkpoint_best_only()\n",
        "early_stopping = get_early_stopping()\n",
        "lr_shed = get_lr_schedule()\n",
        "callbacks = [checkpoint_every_epoch, checkpoint_best_only, early_stopping]\n",
        "callbacks = [lr_shed]"
      ]
    },
    {
      "cell_type": "code",
      "execution_count": null,
      "metadata": {
        "id": "oNT87QEAdPeB"
      },
      "outputs": [],
      "source": [
        "batchs = 64\n",
        "window_size = 360\n",
        "input_shape = (window_size, x_trainSm.shape[1])\n",
        "tf.keras.backend.clear_session()\n",
        "\n",
        "model = get_model(input_shape)\n",
        "get_compile(model)\n",
        "#model.summary()\n",
        "\n",
        "#validation_data = (X_val, y_val)\n",
        "\n",
        "dataset = windowed_dataset(x_trainSm, window_size, batchs)\n"
      ]
    },
    {
      "cell_type": "code",
      "execution_count": null,
      "metadata": {
        "id": "nGInukWElnEo"
      },
      "outputs": [],
      "source": [
        "# Train the model\n",
        "history = model.fit(dataset, epochs = 50, verbose = 2, shuffle = False)\n",
        "\n",
        "#history = model.fit(x_trainSm, y_trainSm, epochs = 100, verbose = 1, batch_size = batchs)"
      ]
    },
    {
      "cell_type": "code",
      "execution_count": null,
      "metadata": {
        "id": "SX6Wfp0X-RNs"
      },
      "outputs": [],
      "source": [
        "# TEST PREDICTION\n",
        "\n",
        "# Split data first\n",
        "split_dateSm = pd.to_datetime( '2024-04-30' )\n",
        "upper_boundary = pd.to_datetime( '2024-07-31' )\n",
        "train_dfSm = df_forFCST[ df_forFCST.index <= split_dateSm ]\n",
        "valid_dfSm = df_forFCST[ ( df_forFCST.index > split_dateSm ) & ( df_forFCST.index <= upper_boundary ) ]\n",
        "\n",
        "# max_mix = df_forFCST[ df_forFCST.index <= split_dateSm ]['y_mix'].max()\n",
        "max_mix = 679.8297498652444\n",
        "train_dfSm = add_time_features( train_dfSm, max_mix )\n",
        "valid_dfSm = add_time_features( valid_dfSm, max_mix )\n",
        "\n",
        "# Form numpy arrays\n",
        "time_trainSm = np.array( train_dfSm.reset_index()['ds'] )\n",
        "x_trainSm = np.array( train_dfSm[['y_mix', 'month_number', 'day_of_week', 'day_of_month']] )\n",
        "\n",
        "time_validSm = np.array( valid_dfSm.reset_index()['ds'])\n",
        "x_validSm = np.array( valid_dfSm[['y_mix', 'month_number', 'day_of_week', 'day_of_month']] )"
      ]
    },
    {
      "cell_type": "code",
      "execution_count": null,
      "metadata": {
        "id": "-29UWj7z-ABd"
      },
      "outputs": [],
      "source": [
        "# Reduce the original series\n",
        "forecast_series = x_trainSm[-window_size:]\n",
        "\n",
        "\n",
        "forecast_period = ( pd.to_datetime( time_validSm[-1] ) - pd.to_datetime( time_validSm[0] ) ).days + 1\n",
        "final_result = np.empty( shape = (1, 1) )\n",
        "\n",
        "for period in range( forecast_period ):\n",
        "\n",
        "    forecast = model.predict( forecast_series[np.newaxis], verbose=0 )\n",
        "    results = forecast.squeeze()\n",
        "\n",
        "    forecast_date = time_validSm[0] + pd.Timedelta(days=period)\n",
        "    month_num = forecast_date.month / 12\n",
        "    day_of_week = forecast_date.dayofweek / 6\n",
        "    day_of_month = forecast_date.day / 31\n",
        "\n",
        "    # Append the new prediction and features\n",
        "    forecast_series = np.append( forecast_series,\n",
        "                                  [[ results, month_num, day_of_week, day_of_month ]], axis=0)\n",
        "    final_result = np.append( final_result, results )\n",
        "\n",
        "    # Remove the oldest data point\n",
        "    forecast_series = forecast_series[1:]\n",
        "\n",
        "\n",
        "final_result = final_result[ 1 : ] # extract only the predicted sales for plotting and grouping\n",
        "#print(x_validSm[ : forecast_period, 0 ] * max_mix, final_result * max_mix)\n",
        "#print(x_validSm[ : forecast_period, 0 ] * max_mix, final_result * max_mix)\n",
        "\n",
        "# Plot the results\n",
        "plot_series( time_validSm[ : forecast_period ], \\\n",
        "            ( x_validSm[ : forecast_period, 0 ] * max_mix, final_result * max_mix ), legend = ['x_valid', 'prediction']  )\n",
        "\n",
        "# group by months and estimate errors\n",
        "data = np.array( [ x_validSm[  : forecast_period, 0 ] * max_mix, final_result * max_mix ] ).T\n",
        "\n",
        "df_result = pd.DataFrame( data = data, index = time_validSm[ : forecast_period ],\n",
        "                          columns = [ \"x_valid\", \"prediction\"] )\n",
        "\n",
        "df_resultGR = df_result.groupby( pd.Grouper( freq = \"M\" ) ).sum()\n",
        "p_error = np.abs( np.array( df_resultGR[\"x_valid\"] ) - ( np.array( df_resultGR['prediction'] ) ) ) \\\n",
        "    / np.array( df_resultGR[\"x_valid\"] )\n",
        "\n",
        "df_resultGR = df_result.groupby( pd.Grouper( freq = \"M\" ) ).sum()\n",
        "df_resultGR['a_error'] = np.abs( np.round( \\\n",
        "    np.array( df_resultGR[\"x_valid\"] ) \\\n",
        "    - np.array( df_resultGR['prediction'] ), 0 ) )\n",
        "df_resultGR['p_error'] = np.round( ( np.array( df_resultGR[\"x_valid\"] ) \\\n",
        "    -  np.array( df_resultGR['prediction'] ) ) \\\n",
        "    / np.array( df_resultGR[\"x_valid\"] ), 2 )\n",
        "\n",
        "df_resultGR\n"
      ]
    },
    {
      "cell_type": "code",
      "execution_count": null,
      "metadata": {
        "colab": {
          "base_uri": "https://localhost:8080/",
          "height": 447
        },
        "id": "ucylgxDARlJ1",
        "outputId": "d31c8d57-4e85-461f-eeed-91ed4480b676"
      },
      "outputs": [
        {
          "output_type": "execute_result",
          "data": {
            "text/plain": [
              "<Axes: >"
            ]
          },
          "metadata": {},
          "execution_count": 20
        },
        {
          "output_type": "display_data",
          "data": {
            "text/plain": [
              "<Figure size 640x480 with 1 Axes>"
            ],
            "image/png": "[encoded data removed]"
          },
          "metadata": {}
        }
      ],
      "source": [
        "df = pd.DataFrame(history.history)\n",
        "#df = df[15:]\n",
        "df.plot(y=['loss'])\n"
      ]
    },
    {
      "cell_type": "code",
      "execution_count": null,
      "metadata": {
        "id": "nEGnBrBosLuP"
      },
      "outputs": [],
      "source": [
        "batchsi = [64]\n",
        "lratesi = [5e-4, 1e-3, 1e-3, 1e-3, 3e-3]\n",
        "weedi = [3e-3, 7e-4, 1e-3, 3e-3, 3e-3]\n",
        "bests = []"
      ]
    },
    {
      "cell_type": "markdown",
      "metadata": {
        "id": "wIlN1-WwUv8m"
      },
      "source": [
        "**доп**"
      ]
    },
    {
      "cell_type": "code",
      "execution_count": null,
      "metadata": {
        "colab": {
          "base_uri": "https://localhost:8080/"
        },
        "id": "aDNMmylMrdmI",
        "outputId": "0cabfaf8-b030-402a-b270-3593d0f501e9"
      },
      "outputs": [
        {
          "output_type": "stream",
          "name": "stderr",
          "text": [
            "/usr/local/lib/python3.10/dist-packages/keras/src/layers/convolutional/base_conv.py:107: UserWarning: Do not pass an `input_shape`/`input_dim` argument to a layer. When using Sequential models, prefer using an `Input(shape)` object as the first layer in the model instead.\n",
            "  super().__init__(activity_regularizer=activity_regularizer, **kwargs)\n",
            "/usr/lib/python3.10/contextlib.py:153: UserWarning: Your input ran out of data; interrupting training. Make sure that your dataset or generator can generate at least `steps_per_epoch * epochs` batches. You may need to use the `.repeat()` function when building your dataset.\n",
            "  self.gen.throw(typ, value, traceback)\n"
          ]
        },
        {
          "output_type": "stream",
          "name": "stdout",
          "text": [
            "64 0.0005 0.003 :  [ 0.06  0.08 -0.04]\n",
            "[9284. 9035. 9152.] [8734.01531671 8281.75383239 9558.88173801]\n"
          ]
        },
        {
          "output_type": "stream",
          "name": "stderr",
          "text": [
            "/usr/local/lib/python3.10/dist-packages/keras/src/layers/convolutional/base_conv.py:107: UserWarning: Do not pass an `input_shape`/`input_dim` argument to a layer. When using Sequential models, prefer using an `Input(shape)` object as the first layer in the model instead.\n",
            "  super().__init__(activity_regularizer=activity_regularizer, **kwargs)\n",
            "/usr/lib/python3.10/contextlib.py:153: UserWarning: Your input ran out of data; interrupting training. Make sure that your dataset or generator can generate at least `steps_per_epoch * epochs` batches. You may need to use the `.repeat()` function when building your dataset.\n",
            "  self.gen.throw(typ, value, traceback)\n"
          ]
        },
        {
          "output_type": "stream",
          "name": "stdout",
          "text": [
            "64 0.001 0.0007 :  [ 0.05  0.06 -0.04]\n",
            "[9284. 9035. 9152.] [8839.47202722 8466.17351237 9539.04166851]\n"
          ]
        },
        {
          "output_type": "stream",
          "name": "stderr",
          "text": [
            "/usr/local/lib/python3.10/dist-packages/keras/src/layers/convolutional/base_conv.py:107: UserWarning: Do not pass an `input_shape`/`input_dim` argument to a layer. When using Sequential models, prefer using an `Input(shape)` object as the first layer in the model instead.\n",
            "  super().__init__(activity_regularizer=activity_regularizer, **kwargs)\n",
            "/usr/lib/python3.10/contextlib.py:153: UserWarning: Your input ran out of data; interrupting training. Make sure that your dataset or generator can generate at least `steps_per_epoch * epochs` batches. You may need to use the `.repeat()` function when building your dataset.\n",
            "  self.gen.throw(typ, value, traceback)\n"
          ]
        },
        {
          "output_type": "stream",
          "name": "stdout",
          "text": [
            "64 0.001 0.001 :  [ 0.08  0.1  -0.03]\n",
            "[9284. 9035. 9152.] [8535.07994701 8165.72768222 9390.93640172]\n"
          ]
        },
        {
          "output_type": "stream",
          "name": "stderr",
          "text": [
            "/usr/local/lib/python3.10/dist-packages/keras/src/layers/convolutional/base_conv.py:107: UserWarning: Do not pass an `input_shape`/`input_dim` argument to a layer. When using Sequential models, prefer using an `Input(shape)` object as the first layer in the model instead.\n",
            "  super().__init__(activity_regularizer=activity_regularizer, **kwargs)\n",
            "/usr/lib/python3.10/contextlib.py:153: UserWarning: Your input ran out of data; interrupting training. Make sure that your dataset or generator can generate at least `steps_per_epoch * epochs` batches. You may need to use the `.repeat()` function when building your dataset.\n",
            "  self.gen.throw(typ, value, traceback)\n"
          ]
        },
        {
          "output_type": "stream",
          "name": "stdout",
          "text": [
            "64 0.001 0.003 :  [ 0.04  0.08 -0.06]\n",
            "[9284. 9035. 9152.] [8893.58241738 8328.46885445 9671.44348357]\n"
          ]
        },
        {
          "output_type": "stream",
          "name": "stderr",
          "text": [
            "/usr/local/lib/python3.10/dist-packages/keras/src/layers/convolutional/base_conv.py:107: UserWarning: Do not pass an `input_shape`/`input_dim` argument to a layer. When using Sequential models, prefer using an `Input(shape)` object as the first layer in the model instead.\n",
            "  super().__init__(activity_regularizer=activity_regularizer, **kwargs)\n",
            "/usr/lib/python3.10/contextlib.py:153: UserWarning: Your input ran out of data; interrupting training. Make sure that your dataset or generator can generate at least `steps_per_epoch * epochs` batches. You may need to use the `.repeat()` function when building your dataset.\n",
            "  self.gen.throw(typ, value, traceback)\n"
          ]
        },
        {
          "output_type": "stream",
          "name": "stdout",
          "text": [
            "64 0.003 0.003 :  [ 0.08  0.1  -0.01]\n",
            "[9284. 9035. 9152.] [8516.4287741  8094.98898878 9285.25899353]\n"
          ]
        }
      ],
      "source": [
        "for i in range(len(lratesi)):\n",
        "            weed = weedi[i]\n",
        "            lrate = lratesi[i]\n",
        "\n",
        "            try:\n",
        "                model = get_model(input_shape, weed)\n",
        "                get_compile(model, lrate)\n",
        "                history = model.fit(dataset, epochs = 25, verbose = 0, shuffle = False)\n",
        "\n",
        "                # TEST PREDICTION\n",
        "\n",
        "                # Split data first\n",
        "                split_dateSm = pd.to_datetime( '2024-04-30' )\n",
        "                upper_boundary = pd.to_datetime( '2024-07-31' )\n",
        "                train_dfSm = df_forFCST[ df_forFCST.index <= split_dateSm ]\n",
        "                valid_dfSm = df_forFCST[ ( df_forFCST.index > split_dateSm ) & ( df_forFCST.index <= upper_boundary ) ]\n",
        "\n",
        "                # max_mix = df_forFCST[ df_forFCST.index <= split_dateSm ]['y_mix'].max()\n",
        "                max_mix = 679.8297498652444\n",
        "                train_dfSm = add_time_features( train_dfSm, max_mix )\n",
        "                valid_dfSm = add_time_features( valid_dfSm, max_mix )\n",
        "\n",
        "                # Form numpy arrays\n",
        "                time_trainSm = np.array( train_dfSm.reset_index()['ds'] )\n",
        "                x_trainSm = np.array( train_dfSm[['y_mix', 'month_number', 'day_of_week', 'day_of_month']] )\n",
        "\n",
        "                time_validSm = np.array( valid_dfSm.reset_index()['ds'])\n",
        "                x_validSm = np.array( valid_dfSm[['y_mix', 'month_number', 'day_of_week', 'day_of_month']] )\n",
        "\n",
        "\n",
        "                # Reduce the original series\n",
        "                forecast_series = x_trainSm[-window_size:]\n",
        "\n",
        "\n",
        "                forecast_period = ( pd.to_datetime( time_validSm[-1] ) - pd.to_datetime( time_validSm[0] ) ).days + 1\n",
        "                final_result = np.empty( shape = (1, 1) )\n",
        "\n",
        "                for period in range( forecast_period ):\n",
        "\n",
        "                    forecast = model.predict( forecast_series[np.newaxis], verbose=0 )\n",
        "                    results = forecast.squeeze()\n",
        "\n",
        "                    forecast_date = time_validSm[0] + pd.Timedelta(days=period)\n",
        "                    month_num = forecast_date.month / 12\n",
        "                    day_of_week = forecast_date.dayofweek / 6\n",
        "                    day_of_month = forecast_date.day / 31\n",
        "\n",
        "                    # Append the new prediction and features\n",
        "                    forecast_series = np.append( forecast_series,\n",
        "                                                [[ results, month_num, day_of_week, day_of_month ]], axis=0)\n",
        "                    final_result = np.append( final_result, results )\n",
        "\n",
        "                    # Remove the oldest data point\n",
        "                    forecast_series = forecast_series[1:]\n",
        "\n",
        "\n",
        "                final_result = final_result[ 1 : ] # extract only the predicted sales for plotting and grouping\n",
        "                #print(x_validSm[ : forecast_period, 0 ] * max_mix, final_result * max_mix)\n",
        "                #print(x_validSm[ : forecast_period, 0 ] * max_mix, final_result * max_mix)\n",
        "\n",
        "                # Plot the results\n",
        "                #plot_series( time_validSm[ : forecast_period ], \\\n",
        "                #            ( x_validSm[ : forecast_period, 0 ] * max_mix, final_result * max_mix ), legend = ['x_valid', 'prediction']  )\n",
        "\n",
        "                # group by months and estimate errors\n",
        "                data = np.array( [ x_validSm[  : forecast_period, 0 ] * max_mix, final_result * max_mix ] ).T\n",
        "\n",
        "                df_result = pd.DataFrame( data = data, index = time_validSm[ : forecast_period ],\n",
        "                                        columns = [ \"x_valid\", \"prediction\"] )\n",
        "\n",
        "                df_resultGR = df_result.groupby( pd.Grouper( freq = \"M\" ) ).sum()\n",
        "                p_error = np.abs( np.array( df_resultGR[\"x_valid\"] ) - ( np.array( df_resultGR['prediction'] ) ) ) \\\n",
        "                    / np.array( df_resultGR[\"x_valid\"] )\n",
        "\n",
        "                df_resultGR = df_result.groupby( pd.Grouper( freq = \"M\" ) ).sum()\n",
        "                df_resultGR['a_error'] = np.abs( np.round( \\\n",
        "                    np.array( df_resultGR[\"x_valid\"] ) \\\n",
        "                    - np.array( df_resultGR['prediction'] ), 0 ) )\n",
        "                df_resultGR['p_error'] = np.round( ( np.array( df_resultGR[\"x_valid\"] ) \\\n",
        "                    -  np.array( df_resultGR['prediction'] ) ) \\\n",
        "                    / np.array( df_resultGR[\"x_valid\"] ), 2 )\n",
        "                print(batchs, lrate, weed, ': ', df_resultGR['p_error'].values)\n",
        "                print(df_resultGR['x_valid'].values, df_resultGR['prediction'].values)\n",
        "            except:\n",
        "                print('')"
      ]
    },
    {
      "cell_type": "code",
      "execution_count": null,
      "metadata": {
        "colab": {
          "base_uri": "https://localhost:8080/"
        },
        "id": "DwRQFcaBt4by",
        "outputId": "5a32ca53-058d-4ef1-e8cd-61666b0b062c"
      },
      "outputs": [
        {
          "output_type": "stream",
          "name": "stdout",
          "text": [
            "\n"
          ]
        }
      ],
      "source": [
        "print(*bests, sep = '\\n')\n",
        "#batch_size lerning_rate (weight_decay)\n",
        "#64 0.0005 0.003 :  [-0.05  0.05  0.04] in 1 7 7 *\n",
        "#64 0.001 0.0007 :  [-0.02  0.06  0.05] in 1 7 8 *\n",
        "#64 0.001 0.001 :  [-0.01  0.04  0.04]  in 1 6 7 **\n",
        "#64 0.001 0.003 :  [-0.01  0.08  0.08]  in 1 7 9 *\n",
        "#64 0.003 0.003 :                       in 1 7 8 *"
      ]
    },
    {
      "cell_type": "code",
      "execution_count": null,
      "metadata": {
        "colab": {
          "base_uri": "https://localhost:8080/",
          "height": 578
        },
        "id": "b2gm-ylGhOjn",
        "outputId": "65380601-0ba8-4f6c-b731-282a7e5e37d5"
      },
      "outputs": [
        {
          "data": {
            "image/png": "[encoded data removed]",
            "text/plain": [
              "<Figure size 1000x600 with 1 Axes>"
            ]
          },
          "metadata": {},
          "output_type": "display_data"
        }
      ],
      "source": [
        "# Define the learning rate array (adjust to match the number of epochs)\n",
        "lrs = 1e-9 * (10 ** (np.arange(len(history.history['mae'])) / 15))\n",
        "\n",
        "# Set the figure size\n",
        "plt.figure(figsize=(10, 6))\n",
        "\n",
        "# Set the grid\n",
        "plt.grid(True)\n",
        "\n",
        "# Plot the loss in log scale\n",
        "plt.semilogx(lrs, history.history[\"loss\"])\n",
        "\n",
        "# Increase the tickmarks size\n",
        "plt.tick_params('both', length=10, width=1, which='both')\n",
        "\n",
        "# Set the plot boundaries\n",
        "plt.xlabel(\"Learning Rate\")\n",
        "plt.ylabel(\"Mae\")\n",
        "plt.title(\"Learning Rate vs Loss\")\n",
        "plt.show()"
      ]
    }
  ],
  "metadata": {
    "colab": {
      "provenance": []
    },
    "kernelspec": {
      "display_name": "Python 3",
      "name": "python3"
    },
    "language_info": {
      "name": "python"
    }
  },
  "nbformat": 4,
  "nbformat_minor": 0
}